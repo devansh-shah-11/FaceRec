{
  "cells": [
    {
      "cell_type": "markdown",
      "metadata": {
        "id": "JJln8IT4MNXL"
      },
      "source": [
        "## Setup"
      ]
    },
    {
      "cell_type": "markdown",
      "metadata": {
        "id": "view-in-github"
      },
      "source": [
        "<a href=\"https://colab.research.google.com/github/Devasy23/FaceRec/blob/feature-triplet-loss-function/Model-Training/Facerec_final_finetune.ipynb\" target=\"_parent\"><img src=\"https://colab.research.google.com/assets/colab-badge.svg\" alt=\"Open In Colab\"/></a>"
      ]
    },
    {
      "cell_type": "code",
      "execution_count": null,
      "metadata": {
        "id": "dgleTxp1z93-"
      },
      "outputs": [],
      "source": [
        "!pip install deepface wandb tensorflow-addons keras huggingface_hub"
      ]
    },
    {
      "cell_type": "markdown",
      "metadata": {
        "id": "qpInCToe_HIt"
      },
      "source": [
        "# Downloading dataset"
      ]
    },
    {
      "cell_type": "code",
      "execution_count": 2,
      "metadata": {
        "colab": {
          "base_uri": "https://localhost:8080/"
        },
        "id": "mwSXiTQj_Cmw",
        "outputId": "32d266b1-bd32-4ba2-ea5d-a4a4e2a86e14"
      },
      "outputs": [
        {
          "output_type": "stream",
          "name": "stdout",
          "text": [
            "--2024-07-19 08:52:41--  http://vis-www.cs.umass.edu/lfw/lfw.tgz\n",
            "Resolving vis-www.cs.umass.edu (vis-www.cs.umass.edu)... 128.119.244.95\n",
            "Connecting to vis-www.cs.umass.edu (vis-www.cs.umass.edu)|128.119.244.95|:80... connected.\n",
            "HTTP request sent, awaiting response... 200 OK\n",
            "Length: 180566744 (172M) [application/x-gzip]\n",
            "Saving to: ‘lfw.tgz’\n",
            "\n",
            "lfw.tgz             100%[===================>] 172.20M   682KB/s    in 6m 2s   \n",
            "\n",
            "2024-07-19 08:58:45 (487 KB/s) - ‘lfw.tgz’ saved [180566744/180566744]\n",
            "\n"
          ]
        }
      ],
      "source": [
        "!wget http://vis-www.cs.umass.edu/lfw/lfw.tgz"
      ]
    },
    {
      "cell_type": "code",
      "execution_count": null,
      "metadata": {
        "id": "-zyL_5Zu_bxp"
      },
      "outputs": [],
      "source": [
        "!tar -xzvf lfw.tgz"
      ]
    },
    {
      "cell_type": "markdown",
      "metadata": {
        "id": "zM40wNF2AGlM"
      },
      "source": [
        "write code to clean the dataset where if any folder in lfw/ has less than 4 images then delete the directory"
      ]
    },
    {
      "cell_type": "code",
      "execution_count": 4,
      "metadata": {
        "colab": {
          "base_uri": "https://localhost:8080/"
        },
        "id": "S664WK2a_bvB",
        "outputId": "d9eb92f5-6086-44ee-ceb5-b9b455d842b3"
      },
      "outputs": [
        {
          "output_type": "stream",
          "name": "stdout",
          "text": [
            "Removed 5139 folders\n"
          ]
        }
      ],
      "source": [
        "import os\n",
        "import shutil\n",
        "count=0\n",
        "for folder in os.listdir('lfw'):\n",
        "    if len(os.listdir(f'lfw/{folder}')) < 4:\n",
        "        shutil.rmtree(f'lfw/{folder}')\n",
        "        count+=1\n",
        "print(f\"Removed {count} folders\")"
      ]
    },
    {
      "cell_type": "code",
      "execution_count": 5,
      "metadata": {
        "colab": {
          "base_uri": "https://localhost:8080/"
        },
        "id": "oQw5KKTCjw_m",
        "outputId": "88f672d3-e508-45be-c450-7c27f6f8d882"
      },
      "outputs": [
        {
          "output_type": "stream",
          "name": "stdout",
          "text": [
            "610\n"
          ]
        }
      ],
      "source": [
        "print(len(os.listdir('lfw')))"
      ]
    },
    {
      "cell_type": "markdown",
      "metadata": {
        "id": "aQD62KaBBD_A"
      },
      "source": [
        "Import Modules"
      ]
    },
    {
      "cell_type": "code",
      "execution_count": 6,
      "metadata": {
        "id": "pw8Wf3GsAPAN"
      },
      "outputs": [],
      "source": [
        "import deepface\n",
        "from deepface.basemodels.Facenet import load_facenet512d_model\n",
        "from tensorflow.keras import layers\n",
        "from tensorflow import keras\n",
        "import tensorflow as tf"
      ]
    },
    {
      "cell_type": "code",
      "execution_count": 7,
      "metadata": {
        "id": "s8WYL7RIDlDM"
      },
      "outputs": [],
      "source": [
        "def get_embedding_module(imageSize=160):\n",
        "\n",
        "    # Load Facenet Model\n",
        "    model = load_facenet512d_model()\n",
        "    model.trainable = False\n",
        "    inputs = keras.Input(shape=(imageSize, imageSize, 3))\n",
        "\n",
        "    # Resizing the input\n",
        "    x = layers.Resizing(160, 160)(inputs)\n",
        "    output = model(x)\n",
        "    embedding = keras.Model(inputs, output, name=\"embedding\")\n",
        "    return embedding"
      ]
    },
    {
      "cell_type": "code",
      "execution_count": 8,
      "metadata": {
        "colab": {
          "base_uri": "https://localhost:8080/"
        },
        "id": "A8GQbn3JvtJc",
        "outputId": "f52c60ae-99ff-4287-c2ac-ada2c857ca78"
      },
      "outputs": [
        {
          "output_type": "stream",
          "name": "stdout",
          "text": [
            "0.0.92\n"
          ]
        }
      ],
      "source": [
        "print(deepface.__version__)"
      ]
    },
    {
      "cell_type": "code",
      "execution_count": 9,
      "metadata": {
        "id": "KT6pIJrCGZtP"
      },
      "outputs": [],
      "source": [
        "import os\n",
        "\n",
        "directory = '/root/.deepface/weights'\n",
        "os.makedirs(directory, exist_ok=True)"
      ]
    },
    {
      "cell_type": "code",
      "execution_count": 10,
      "metadata": {
        "id": "Wrh_a7B7Cjth"
      },
      "outputs": [],
      "source": [
        "def get_siamese_network(imageSize, embeddingModel):\n",
        "    # build the anchor, positive and negative input layer\n",
        "    anchorInput = keras.Input(name=\"anchor\", shape=imageSize + (3,))\n",
        "    positiveInput = keras.Input(name=\"positive\", shape=imageSize + (3,))\n",
        "    negativeInput = keras.Input(name=\"negative\", shape=imageSize + (3,))\n",
        "    # embed the anchor, positive and negative images\n",
        "    anchorEmbedding = embeddingModel(anchorInput)\n",
        "    positiveEmbedding = embeddingModel(positiveInput)\n",
        "    negativeEmbedding = embeddingModel(negativeInput)\n",
        "    # build the siamese network and return it\n",
        "    siamese_network = keras.Model(\n",
        "        inputs=[anchorInput, positiveInput, negativeInput],\n",
        "        outputs=[anchorEmbedding, positiveEmbedding, negativeEmbedding]\n",
        "    )\n",
        "    return siamese_network"
      ]
    },
    {
      "cell_type": "code",
      "execution_count": 11,
      "metadata": {
        "id": "JN9GRVlryiwi"
      },
      "outputs": [],
      "source": [
        "import os\n",
        "import numpy as np\n",
        "from tensorflow.keras.preprocessing.image import ImageDataGenerator, img_to_array, load_img\n",
        "from sklearn.preprocessing import LabelEncoder\n",
        "from sklearn.model_selection import train_test_split\n",
        "from tensorflow.keras.optimizers import Adam\n",
        "from tensorflow.keras.metrics import Mean\n",
        "import wandb\n",
        "from wandb.integration.keras import WandbMetricsLogger, WandbModelCheckpoint"
      ]
    },
    {
      "cell_type": "code",
      "execution_count": 12,
      "metadata": {
        "id": "azk1ayQiyhQL"
      },
      "outputs": [],
      "source": [
        "class TripletDataGenerator(tf.keras.utils.Sequence):\n",
        "    def __init__(self, image_paths, labels, batch_size, image_size, num_classes):\n",
        "        self.image_paths = image_paths\n",
        "        self.labels = labels\n",
        "        self.batch_size = batch_size\n",
        "        self.image_size = image_size\n",
        "        self.num_classes = num_classes\n",
        "        self.label_encoder = LabelEncoder()\n",
        "        self.encoded_labels = self.label_encoder.fit_transform(labels)\n",
        "        self.image_data_generator = ImageDataGenerator()\n",
        "        self.on_epoch_end()\n",
        "        print(f\"Initialized TripletDataGenerator with {len(self.image_paths)} images\")\n",
        "\n",
        "    def __len__(self):\n",
        "        return max(1, len(self.image_paths) // self.batch_size)  # Ensure at least one batch\n",
        "\n",
        "    def __getitem__(self, index):\n",
        "        batch_image_paths = self.image_paths[index * self.batch_size:(index + 1) * self.batch_size]\n",
        "        batch_labels = self.encoded_labels[index * self.batch_size:(index + 1) * self.batch_size]\n",
        "        return self._generate_triplet_batch(batch_image_paths, batch_labels)\n",
        "\n",
        "    def on_epoch_end(self):\n",
        "        # Shuffle the data at the end of each epoch\n",
        "        combined = list(zip(self.image_paths, self.encoded_labels))\n",
        "        np.random.shuffle(combined)\n",
        "        self.image_paths[:], self.encoded_labels[:] = zip(*combined)\n",
        "\n",
        "    def _generate_triplet_batch(self, batch_image_paths, batch_labels):\n",
        "        anchor_images = []\n",
        "        positive_images = []\n",
        "        negative_images = []\n",
        "\n",
        "        for i in range(len(batch_image_paths)):\n",
        "            anchor_path = batch_image_paths[i]\n",
        "            anchor_label = batch_labels[i]\n",
        "\n",
        "            positive_path = np.random.choice(\n",
        "                [p for p, l in zip(self.image_paths, self.encoded_labels) if l == anchor_label]\n",
        "            )\n",
        "            negative_path = np.random.choice(\n",
        "                [p for p, l in zip(self.image_paths, self.encoded_labels) if l != anchor_label]\n",
        "            )\n",
        "\n",
        "            anchor_image = load_img(anchor_path, target_size=self.image_size)\n",
        "            positive_image = load_img(positive_path, target_size=self.image_size)\n",
        "            negative_image = load_img(negative_path, target_size=self.image_size)\n",
        "\n",
        "            anchor_images.append(img_to_array(anchor_image))\n",
        "            positive_images.append(img_to_array(positive_image))\n",
        "            negative_images.append(img_to_array(negative_image))\n",
        "\n",
        "        return (\n",
        "            {\n",
        "                \"anchor\": np.array(anchor_images),\n",
        "                \"positive\": np.array(positive_images),\n",
        "                \"negative\": np.array(negative_images)\n",
        "            },\n",
        "            None,\n",
        "        )"
      ]
    },
    {
      "cell_type": "code",
      "execution_count": 13,
      "metadata": {
        "id": "hZHmg8U3Cjie"
      },
      "outputs": [],
      "source": [
        "class SiameseModel(keras.Model):\n",
        "    def __init__(self, siameseNetwork, margin, lossTracker):\n",
        "        super().__init__()\n",
        "        self.siameseNetwork = siameseNetwork\n",
        "        self.margin = margin\n",
        "        self.lossTracker = lossTracker\n",
        "\n",
        "    def _compute_distance(self, inputs):\n",
        "        anchor, positive, negative = inputs[\"anchor\"], inputs[\"positive\"], inputs[\"negative\"]\n",
        "        # embed the images using the siamese network\n",
        "        embeddings = self.siameseNetwork((anchor, positive, negative))\n",
        "        anchorEmbedding = embeddings[0]\n",
        "        positiveEmbedding = embeddings[1]\n",
        "        negativeEmbedding = embeddings[2]\n",
        "        # calculate the anchor to positive and negative distance\n",
        "        apDistance = tf.reduce_sum(\n",
        "            tf.square(anchorEmbedding - positiveEmbedding), axis=-1\n",
        "        )\n",
        "        anDistance = tf.reduce_sum(\n",
        "            tf.square(anchorEmbedding - negativeEmbedding), axis=-1\n",
        "        )\n",
        "        # return the distances\n",
        "        return (apDistance, anDistance)\n",
        "\n",
        "    def _compute_loss(self, apDistance, anDistance):\n",
        "        loss = apDistance - anDistance\n",
        "        loss = tf.maximum(loss + self.margin, 0.0)\n",
        "        return loss\n",
        "\n",
        "    def call(self, inputs):\n",
        "        # compute the distance between the anchor and positive,\n",
        "        # negative images\n",
        "        apDistance, anDistance = self._compute_distance(inputs)\n",
        "        return (apDistance, anDistance)\n",
        "\n",
        "    def train_step(self, inputs):\n",
        "        with tf.GradientTape() as tape:\n",
        "            # compute the distance between the anchor and positive,\n",
        "            # negative images\n",
        "            apDistance, anDistance = self._compute_distance(inputs)\n",
        "            # calculate the loss of the siamese network\n",
        "            loss = self._compute_loss(apDistance, anDistance)\n",
        "        # compute the gradients and optimize the model\n",
        "        gradients = tape.gradient(\n",
        "            loss,\n",
        "            self.siameseNetwork.trainable_variables)\n",
        "        self.optimizer.apply_gradients(\n",
        "            zip(gradients, self.siameseNetwork.trainable_variables)\n",
        "        )\n",
        "        # update the metrics and return the loss\n",
        "        self.lossTracker.update_state(loss)\n",
        "        return {\"loss\": self.lossTracker.result()}\n",
        "\n",
        "    def test_step(self, inputs):\n",
        "        # compute the distance between the anchor and positive,\n",
        "        # negative images\n",
        "        apDistance, anDistance = self._compute_distance(inputs)\n",
        "        # calculate the loss of the siamese network\n",
        "        loss = self._compute_loss(apDistance, anDistance)\n",
        "        # update the metrics and return the loss\n",
        "        self.lossTracker.update_state(loss)\n",
        "        return {\"loss\": self.lossTracker.result()}\n",
        "\n",
        "    @property\n",
        "    def metrics(self):\n",
        "        return [self.lossTracker]\n",
        "\n",
        "    def get_config(self):\n",
        "        config = super().get_config()\n",
        "        config.update({\n",
        "            \"siameseNetwork\": self.siameseNetwork,\n",
        "            \"margin\": self.margin,\n",
        "            \"lossTracker\": self.lossTracker\n",
        "            })\n",
        "        return config\n",
        "\n",
        "    @classmethod\n",
        "    def from_config(cls, config):\n",
        "        return cls(**config)"
      ]
    },
    {
      "cell_type": "markdown",
      "metadata": {
        "id": "MUQTnJIM0Pdb"
      },
      "source": [
        "# Now running the model"
      ]
    },
    {
      "cell_type": "code",
      "execution_count": 31,
      "metadata": {
        "id": "gqQzNCGv0SNs"
      },
      "outputs": [],
      "source": [
        "# Set the directory structure\n",
        "data_dir = 'lfw'\n",
        "image_size = (160, 160)\n",
        "batch_size = 32  # Adjust the batch size for the small dataset\n",
        "margin = 0.6"
      ]
    },
    {
      "cell_type": "code",
      "execution_count": 32,
      "metadata": {
        "colab": {
          "base_uri": "https://localhost:8080/",
          "height": 511,
          "referenced_widgets": [
            "494d02f6a4fe4deab0b71bfaad57ff09",
            "d10892ddb3964dce869bcf84c01443e2",
            "5ee398bf25074544a8784d341f1eed93",
            "1e76705b5cbb4f56b95f57ba8b7b6ef1",
            "9d7ef4b8df364c86b0610a6ab5a6b7db",
            "0cd922ce47ec41dfbc112f8a8af5987a",
            "9971da2bdc4a4d98a5ae66bf9f56007e",
            "73c030b2892a4186908f9ca71c369bda"
          ]
        },
        "id": "75hktjyX0UBD",
        "outputId": "6e5b060a-f1c3-44b2-f5d3-7fc59bf1831a"
      },
      "outputs": [
        {
          "output_type": "display_data",
          "data": {
            "text/plain": [
              "<IPython.core.display.HTML object>"
            ],
            "text/html": [
              "Finishing last run (ID:ojhk6jm3) before initializing another..."
            ]
          },
          "metadata": {}
        },
        {
          "output_type": "display_data",
          "data": {
            "text/plain": [
              "VBox(children=(Label(value='4331.822 MB of 4331.822 MB uploaded (33.680 MB deduped)\\r'), FloatProgress(value=1…"
            ],
            "application/vnd.jupyter.widget-view+json": {
              "version_major": 2,
              "version_minor": 0,
              "model_id": "494d02f6a4fe4deab0b71bfaad57ff09"
            }
          },
          "metadata": {}
        },
        {
          "output_type": "display_data",
          "data": {
            "text/plain": [
              "<IPython.core.display.HTML object>"
            ],
            "text/html": [
              "<style>\n",
              "    table.wandb td:nth-child(1) { padding: 0 10px; text-align: left ; width: auto;} td:nth-child(2) {text-align: left ; width: 100%}\n",
              "    .wandb-row { display: flex; flex-direction: row; flex-wrap: wrap; justify-content: flex-start; width: 100% }\n",
              "    .wandb-col { display: flex; flex-direction: column; flex-basis: 100%; flex: 1; padding: 10px; }\n",
              "    </style>\n",
              "<div class=\"wandb-row\"><div class=\"wandb-col\"><h3>Run history:</h3><br/><table class=\"wandb\"><tr><td>batch/batch_step</td><td>▁▁▁▁▂▂▂▂▂▃▃▃▃▃▃▄▄▄▄▄▅▅▅▅▅▅▆▆▆▆▆▇▇▇▇▇▇███</td></tr><tr><td>batch/learning_rate</td><td>▁▁▁▁▁▁▁▁▁▁▁▁▁▁▁▁▁▁▁▁▁▁▁▁▁▁▁▁▁▁▁▁▁▁▁▁▁▁▁▁</td></tr><tr><td>batch/loss</td><td>█▃▃▁▁▁▁▁▁▁▁▁▁▁▁▁▁▁▁▁▁▁▁▁▁▁▁▁▁▁▁▁▁▁▁▁▁▁▁▁</td></tr><tr><td>epoch/epoch</td><td>▁▁▂▃▃▃▄▅▅▅▆▇▇▇█</td></tr><tr><td>epoch/learning_rate</td><td>▁▁▁▁▁▁▁▁▁▁▁▁▁▁▁</td></tr><tr><td>epoch/loss</td><td>█▁▁▁▁▁▁▁▁▁▁▁▁▁▁</td></tr><tr><td>epoch/val_loss</td><td>█▃▂▁▁▁▁▁▁▁▁▁▁▁▁</td></tr></table><br/></div><div class=\"wandb-col\"><h3>Run summary:</h3><br/><table class=\"wandb\"><tr><td>batch/batch_step</td><td>2545</td></tr><tr><td>batch/learning_rate</td><td>1e-05</td></tr><tr><td>batch/loss</td><td>0.49995</td></tr><tr><td>epoch/epoch</td><td>14</td></tr><tr><td>epoch/learning_rate</td><td>1e-05</td></tr><tr><td>epoch/loss</td><td>0.49899</td></tr><tr><td>epoch/val_loss</td><td>0.36567</td></tr></table><br/></div></div>"
            ]
          },
          "metadata": {}
        },
        {
          "output_type": "display_data",
          "data": {
            "text/plain": [
              "<IPython.core.display.HTML object>"
            ],
            "text/html": [
              " View run <strong style=\"color:#cdcd00\">still-puddle-3</strong> at: <a href='https://wandb.ai/devasy/FaceRec/runs/ojhk6jm3' target=\"_blank\">https://wandb.ai/devasy/FaceRec/runs/ojhk6jm3</a><br/> View project at: <a href='https://wandb.ai/devasy/FaceRec' target=\"_blank\">https://wandb.ai/devasy/FaceRec</a><br/>Synced 5 W&B file(s), 0 media file(s), 75 artifact file(s) and 0 other file(s)"
            ]
          },
          "metadata": {}
        },
        {
          "output_type": "display_data",
          "data": {
            "text/plain": [
              "<IPython.core.display.HTML object>"
            ],
            "text/html": [
              "Find logs at: <code>./wandb/run-20240719_090345-ojhk6jm3/logs</code>"
            ]
          },
          "metadata": {}
        },
        {
          "output_type": "display_data",
          "data": {
            "text/plain": [
              "<IPython.core.display.HTML object>"
            ],
            "text/html": [
              "The new W&B backend becomes opt-out in version 0.18.0; try it out with `wandb.require(\"core\")`! See https://wandb.me/wandb-core for more information."
            ]
          },
          "metadata": {}
        },
        {
          "output_type": "display_data",
          "data": {
            "text/plain": [
              "<IPython.core.display.HTML object>"
            ],
            "text/html": [
              "Successfully finished last run (ID:ojhk6jm3). Initializing new run:<br/>"
            ]
          },
          "metadata": {}
        },
        {
          "output_type": "display_data",
          "data": {
            "text/plain": [
              "<IPython.core.display.HTML object>"
            ],
            "text/html": [
              "Tracking run with wandb version 0.17.4"
            ]
          },
          "metadata": {}
        },
        {
          "output_type": "display_data",
          "data": {
            "text/plain": [
              "<IPython.core.display.HTML object>"
            ],
            "text/html": [
              "Run data is saved locally in <code>/content/wandb/run-20240719_095335-998gorn7</code>"
            ]
          },
          "metadata": {}
        },
        {
          "output_type": "display_data",
          "data": {
            "text/plain": [
              "<IPython.core.display.HTML object>"
            ],
            "text/html": [
              "Syncing run <strong><a href='https://wandb.ai/devasy/FaceRec/runs/998gorn7' target=\"_blank\">apricot-pine-4</a></strong> to <a href='https://wandb.ai/devasy/FaceRec' target=\"_blank\">Weights & Biases</a> (<a href='https://wandb.me/run' target=\"_blank\">docs</a>)<br/>"
            ]
          },
          "metadata": {}
        },
        {
          "output_type": "display_data",
          "data": {
            "text/plain": [
              "<IPython.core.display.HTML object>"
            ],
            "text/html": [
              " View project at <a href='https://wandb.ai/devasy/FaceRec' target=\"_blank\">https://wandb.ai/devasy/FaceRec</a>"
            ]
          },
          "metadata": {}
        },
        {
          "output_type": "display_data",
          "data": {
            "text/plain": [
              "<IPython.core.display.HTML object>"
            ],
            "text/html": [
              " View run at <a href='https://wandb.ai/devasy/FaceRec/runs/998gorn7' target=\"_blank\">https://wandb.ai/devasy/FaceRec/runs/998gorn7</a>"
            ]
          },
          "metadata": {}
        },
        {
          "output_type": "execute_result",
          "data": {
            "text/html": [
              "<button onClick=\"this.nextSibling.style.display='block';this.style.display='none';\">Display W&B run</button><iframe src='https://wandb.ai/devasy/FaceRec/runs/998gorn7?jupyter=true' style='border:none;width:100%;height:420px;display:none;'></iframe>"
            ],
            "text/plain": [
              "<wandb.sdk.wandb_run.Run at 0x7ef5f721a230>"
            ]
          },
          "metadata": {},
          "execution_count": 32
        }
      ],
      "source": [
        "# Initialize W&B\n",
        "wandb.init(project=\"FaceRec\", config={\n",
        "    \"learning_rate\": 0.00001,\n",
        "    \"epochs\": 15,\n",
        "    \"batch_size\": 32,\n",
        "    \"optimizer\": \"Adam\",\n",
        "    \"architecture\": \"FaceNet\",\n",
        "    \"dataset\": \"lfw\",\n",
        "    \"loss\": \"TripletLoss\",\n",
        "    \"margin\": 0.6\n",
        "})"
      ]
    },
    {
      "cell_type": "code",
      "execution_count": 33,
      "metadata": {
        "id": "1MRdQa7x0V77"
      },
      "outputs": [],
      "source": [
        "# Load and preprocess the data\n",
        "image_paths = []\n",
        "labels = []\n",
        "\n",
        "for label in os.listdir(data_dir):\n",
        "    label_dir = os.path.join(data_dir, label)\n",
        "    if os.path.isdir(label_dir):\n",
        "        for image_name in os.listdir(label_dir):\n",
        "            image_paths.append(os.path.join(label_dir, image_name))\n",
        "            labels.append(label)"
      ]
    },
    {
      "cell_type": "code",
      "execution_count": 34,
      "metadata": {
        "colab": {
          "base_uri": "https://localhost:8080/"
        },
        "id": "mmqDeSlB0iFt",
        "outputId": "eec4b0af-3837-4f6c-bfbd-901d715d5669"
      },
      "outputs": [
        {
          "output_type": "stream",
          "name": "stdout",
          "text": [
            "Found 6733 images in 610 classes\n",
            "Training on 5386 images\n",
            "Validating on 1347 images\n"
          ]
        }
      ],
      "source": [
        "# Debugging output\n",
        "print(f\"Found {len(image_paths)} images in {len(set(labels))} classes\")\n",
        "\n",
        "# Split the data into training and validation sets\n",
        "train_paths, val_paths, train_labels, val_labels = train_test_split(\n",
        "    image_paths, labels, test_size=0.2, stratify=labels, random_state=42\n",
        ")\n",
        "\n",
        "# Check if the splits are non-empty\n",
        "print(f\"Training on {len(train_paths)} images\")\n",
        "print(f\"Validating on {len(val_paths)} images\")"
      ]
    },
    {
      "cell_type": "code",
      "execution_count": 35,
      "metadata": {
        "colab": {
          "base_uri": "https://localhost:8080/"
        },
        "id": "AdTteKRx0lN1",
        "outputId": "a50cfe80-083d-48c7-e841-1f62051066b1"
      },
      "outputs": [
        {
          "output_type": "stream",
          "name": "stdout",
          "text": [
            "Initialized TripletDataGenerator with 5386 images\n",
            "Initialized TripletDataGenerator with 1347 images\n"
          ]
        }
      ],
      "source": [
        "# Create data generators\n",
        "num_classes = len(set(labels))\n",
        "train_generator = TripletDataGenerator(train_paths, train_labels, batch_size, image_size, num_classes)\n",
        "val_generator = TripletDataGenerator(val_paths, val_labels, batch_size, image_size, num_classes)\n",
        "\n",
        "# Check if the generators have data\n",
        "assert len(train_generator) > 0, \"Training generator is empty!\"\n",
        "assert len(val_generator) > 0, \"Validation generator is empty!\""
      ]
    },
    {
      "cell_type": "code",
      "execution_count": 36,
      "metadata": {
        "id": "0T_Y8sQDMNXX"
      },
      "outputs": [],
      "source": [
        "def make_model_finetunable(embeddingModel, layersToTrain):\n",
        "    embeddingModel.trainable = True\n",
        "    for layer in embeddingModel.layers[:-layersToTrain]:\n",
        "        layer.trainable = False\n",
        "    return embeddingModel"
      ]
    },
    {
      "cell_type": "code",
      "execution_count": 37,
      "metadata": {
        "id": "KyCQl9VD0qy_"
      },
      "outputs": [],
      "source": [
        "# Create the embedding model and the Siamese network\n",
        "embedding_model = get_embedding_module(image_size[0])\n",
        "embedding_model = make_model_finetunable(embedding_model, 10)\n",
        "siamese_network = get_siamese_network(image_size, embedding_model)\n",
        "\n",
        "# Initialize the Siamese model\n",
        "loss_tracker = Mean(name=\"loss\")\n",
        "siamese_model = SiameseModel(siamese_network, margin, loss_tracker)\n",
        "\n",
        "# Compile the model\n",
        "siamese_model.compile(optimizer=Adam(1e-5))"
      ]
    },
    {
      "cell_type": "code",
      "execution_count": 38,
      "metadata": {
        "colab": {
          "base_uri": "https://localhost:8080/"
        },
        "id": "tkjZAKf6CjfQ",
        "outputId": "447cb3a1-4aa9-4efa-fa22-d6f76be9bcf2"
      },
      "outputs": [
        {
          "output_type": "stream",
          "name": "stdout",
          "text": [
            "Epoch 1/15\n",
            "168/168 [==============================] - ETA: 0s - loss: 105.2571"
          ]
        },
        {
          "output_type": "stream",
          "name": "stderr",
          "text": [
            "\u001b[34m\u001b[1mwandb\u001b[0m: Adding directory to artifact (./models)... Done. 1.5s\n"
          ]
        },
        {
          "output_type": "stream",
          "name": "stdout",
          "text": [
            "\b\b\b\b\b\b\b\b\b\b\b\b\b\b\b\b\b\b\b\b\b\b\b\b\b\b\b\b\b\b\b\b\b\b\b\b\b\b\b\b\b\b\b\b\b\b\b\b\b\b\b\b\b\b\b\b\b\b\b\b\b\b\b\b\b\b\b\r168/168 [==============================] - 217s 965ms/step - loss: 105.2571 - val_loss: 9.0454\n",
            "Epoch 2/15\n",
            "168/168 [==============================] - ETA: 0s - loss: 7.5691"
          ]
        },
        {
          "output_type": "stream",
          "name": "stderr",
          "text": [
            "\u001b[34m\u001b[1mwandb\u001b[0m: Adding directory to artifact (./models)... Done. 1.4s\n"
          ]
        },
        {
          "output_type": "stream",
          "name": "stdout",
          "text": [
            "\b\b\b\b\b\b\b\b\b\b\b\b\b\b\b\b\b\b\b\b\b\b\b\b\b\b\b\b\b\b\b\b\b\b\b\b\b\b\b\b\b\b\b\b\b\b\b\b\b\b\b\b\b\b\b\b\b\b\b\b\b\b\b\b\b\r168/168 [==============================] - 154s 917ms/step - loss: 7.5691 - val_loss: 2.4464\n",
            "Epoch 3/15\n",
            "168/168 [==============================] - ETA: 0s - loss: 2.0882"
          ]
        },
        {
          "output_type": "stream",
          "name": "stderr",
          "text": [
            "\u001b[34m\u001b[1mwandb\u001b[0m: Adding directory to artifact (./models)... Done. 1.8s\n"
          ]
        },
        {
          "output_type": "stream",
          "name": "stdout",
          "text": [
            "\b\b\b\b\b\b\b\b\b\b\b\b\b\b\b\b\b\b\b\b\b\b\b\b\b\b\b\b\b\b\b\b\b\b\b\b\b\b\b\b\b\b\b\b\b\b\b\b\b\b\b\b\b\b\b\b\b\b\b\b\b\b\b\b\b\r168/168 [==============================] - 154s 916ms/step - loss: 2.0882 - val_loss: 0.8848\n",
            "Epoch 4/15\n",
            "168/168 [==============================] - ETA: 0s - loss: 1.0689"
          ]
        },
        {
          "output_type": "stream",
          "name": "stderr",
          "text": [
            "\u001b[34m\u001b[1mwandb\u001b[0m: Adding directory to artifact (./models)... Done. 1.4s\n"
          ]
        },
        {
          "output_type": "stream",
          "name": "stdout",
          "text": [
            "\b\b\b\b\b\b\b\b\b\b\b\b\b\b\b\b\b\b\b\b\b\b\b\b\b\b\b\b\b\b\b\b\b\b\b\b\b\b\b\b\b\b\b\b\b\b\b\b\b\b\b\b\b\b\b\b\b\b\b\b\b\b\b\b\b\r168/168 [==============================] - 154s 919ms/step - loss: 1.0689 - val_loss: 0.5584\n",
            "Epoch 5/15\n",
            "168/168 [==============================] - ETA: 0s - loss: 0.7857"
          ]
        },
        {
          "output_type": "stream",
          "name": "stderr",
          "text": [
            "\u001b[34m\u001b[1mwandb\u001b[0m: Adding directory to artifact (./models)... Done. 3.8s\n"
          ]
        },
        {
          "output_type": "stream",
          "name": "stdout",
          "text": [
            "\b\b\b\b\b\b\b\b\b\b\b\b\b\b\b\b\b\b\b\b\b\b\b\b\b\b\b\b\b\b\b\b\b\b\b\b\b\b\b\b\b\b\b\b\b\b\b\b\b\b\b\b\b\b\b\b\b\b\b\b\b\b\b\b\b\r168/168 [==============================] - 155s 922ms/step - loss: 0.7857 - val_loss: 0.4058\n",
            "Epoch 6/15\n",
            "168/168 [==============================] - ETA: 0s - loss: 0.6960"
          ]
        },
        {
          "output_type": "stream",
          "name": "stderr",
          "text": [
            "\u001b[34m\u001b[1mwandb\u001b[0m: Adding directory to artifact (./models)... Done. 3.2s\n"
          ]
        },
        {
          "output_type": "stream",
          "name": "stdout",
          "text": [
            "\b\b\b\b\b\b\b\b\b\b\b\b\b\b\b\b\b\b\b\b\b\b\b\b\b\b\b\b\b\b\b\b\b\b\b\b\b\b\b\b\b\b\b\b\b\b\b\b\b\b\b\b\b\b\b\b\b\b\b\b\b\b\b\b\b\r168/168 [==============================] - 153s 914ms/step - loss: 0.6960 - val_loss: 0.4196\n",
            "Epoch 7/15\n",
            "168/168 [==============================] - ETA: 0s - loss: 0.5539"
          ]
        },
        {
          "output_type": "stream",
          "name": "stderr",
          "text": [
            "\u001b[34m\u001b[1mwandb\u001b[0m: Adding directory to artifact (./models)... Done. 5.0s\n"
          ]
        },
        {
          "output_type": "stream",
          "name": "stdout",
          "text": [
            "\b\b\b\b\b\b\b\b\b\b\b\b\b\b\b\b\b\b\b\b\b\b\b\b\b\b\b\b\b\b\b\b\b\b\b\b\b\b\b\b\b\b\b\b\b\b\b\b\b\b\b\b\b\b\b\b\b\b\b\b\b\b\b\b\b\r168/168 [==============================] - 162s 968ms/step - loss: 0.5539 - val_loss: 0.3854\n",
            "Epoch 8/15\n",
            "168/168 [==============================] - ETA: 0s - loss: 0.5275"
          ]
        },
        {
          "output_type": "stream",
          "name": "stderr",
          "text": [
            "\u001b[34m\u001b[1mwandb\u001b[0m: Adding directory to artifact (./models)... Done. 1.4s\n"
          ]
        },
        {
          "output_type": "stream",
          "name": "stdout",
          "text": [
            "\b\b\b\b\b\b\b\b\b\b\b\b\b\b\b\b\b\b\b\b\b\b\b\b\b\b\b\b\b\b\b\b\b\b\b\b\b\b\b\b\b\b\b\b\b\b\b\b\b\b\b\b\b\b\b\b\b\b\b\b\b\b\b\b\b\r168/168 [==============================] - 154s 918ms/step - loss: 0.5275 - val_loss: 0.3438\n",
            "Epoch 9/15\n",
            "168/168 [==============================] - ETA: 0s - loss: 0.4638"
          ]
        },
        {
          "output_type": "stream",
          "name": "stderr",
          "text": [
            "\u001b[34m\u001b[1mwandb\u001b[0m: Adding directory to artifact (./models)... Done. 1.5s\n"
          ]
        },
        {
          "output_type": "stream",
          "name": "stdout",
          "text": [
            "\b\b\b\b\b\b\b\b\b\b\b\b\b\b\b\b\b\b\b\b\b\b\b\b\b\b\b\b\b\b\b\b\b\b\b\b\b\b\b\b\b\b\b\b\b\b\b\b\b\b\b\b\b\b\b\b\b\b\b\b\b\b\b\b\b\r168/168 [==============================] - 163s 974ms/step - loss: 0.4638 - val_loss: 0.2915\n",
            "Epoch 10/15\n",
            "168/168 [==============================] - ETA: 0s - loss: 0.4457"
          ]
        },
        {
          "output_type": "stream",
          "name": "stderr",
          "text": [
            "\u001b[34m\u001b[1mwandb\u001b[0m: Adding directory to artifact (./models)... Done. 1.6s\n"
          ]
        },
        {
          "output_type": "stream",
          "name": "stdout",
          "text": [
            "\b\b\b\b\b\b\b\b\b\b\b\b\b\b\b\b\b\b\b\b\b\b\b\b\b\b\b\b\b\b\b\b\b\b\b\b\b\b\b\b\b\b\b\b\b\b\b\b\b\b\b\b\b\b\b\b\b\b\b\b\b\b\b\b\b\r168/168 [==============================] - 156s 931ms/step - loss: 0.4457 - val_loss: 0.2576\n",
            "Epoch 11/15\n",
            "168/168 [==============================] - ETA: 0s - loss: 0.3930"
          ]
        },
        {
          "output_type": "stream",
          "name": "stderr",
          "text": [
            "\u001b[34m\u001b[1mwandb\u001b[0m: Adding directory to artifact (./models)... Done. 1.4s\n"
          ]
        },
        {
          "output_type": "stream",
          "name": "stdout",
          "text": [
            "\b\b\b\b\b\b\b\b\b\b\b\b\b\b\b\b\b\b\b\b\b\b\b\b\b\b\b\b\b\b\b\b\b\b\b\b\b\b\b\b\b\b\b\b\b\b\b\b\b\b\b\b\b\b\b\b\b\b\b\b\b\b\b\b\b\r168/168 [==============================] - 151s 900ms/step - loss: 0.3930 - val_loss: 0.2626\n",
            "Epoch 12/15\n",
            "168/168 [==============================] - ETA: 0s - loss: 0.3791"
          ]
        },
        {
          "output_type": "stream",
          "name": "stderr",
          "text": [
            "\u001b[34m\u001b[1mwandb\u001b[0m: Adding directory to artifact (./models)... Done. 1.3s\n"
          ]
        },
        {
          "output_type": "stream",
          "name": "stdout",
          "text": [
            "\b\b\b\b\b\b\b\b\b\b\b\b\b\b\b\b\b\b\b\b\b\b\b\b\b\b\b\b\b\b\b\b\b\b\b\b\b\b\b\b\b\b\b\b\b\b\b\b\b\b\b\b\b\b\b\b\b\b\b\b\b\b\b\b\b\r168/168 [==============================] - 156s 932ms/step - loss: 0.3791 - val_loss: 0.2200\n",
            "Epoch 13/15\n",
            "168/168 [==============================] - ETA: 0s - loss: 0.3479"
          ]
        },
        {
          "output_type": "stream",
          "name": "stderr",
          "text": [
            "\u001b[34m\u001b[1mwandb\u001b[0m: Adding directory to artifact (./models)... Done. 1.4s\n"
          ]
        },
        {
          "output_type": "stream",
          "name": "stdout",
          "text": [
            "\b\b\b\b\b\b\b\b\b\b\b\b\b\b\b\b\b\b\b\b\b\b\b\b\b\b\b\b\b\b\b\b\b\b\b\b\b\b\b\b\b\b\b\b\b\b\b\b\b\b\b\b\b\b\b\b\b\b\b\b\b\b\b\b\b\r168/168 [==============================] - 152s 906ms/step - loss: 0.3479 - val_loss: 0.2854\n",
            "Epoch 14/15\n",
            "168/168 [==============================] - ETA: 0s - loss: 0.3425"
          ]
        },
        {
          "output_type": "stream",
          "name": "stderr",
          "text": [
            "\u001b[34m\u001b[1mwandb\u001b[0m: Adding directory to artifact (./models)... Done. 2.0s\n"
          ]
        },
        {
          "output_type": "stream",
          "name": "stdout",
          "text": [
            "\b\b\b\b\b\b\b\b\b\b\b\b\b\b\b\b\b\b\b\b\b\b\b\b\b\b\b\b\b\b\b\b\b\b\b\b\b\b\b\b\b\b\b\b\b\b\b\b\b\b\b\b\b\b\b\b\b\b\b\b\b\b\b\b\b\r168/168 [==============================] - 160s 951ms/step - loss: 0.3425 - val_loss: 0.2119\n",
            "Epoch 15/15\n",
            "168/168 [==============================] - ETA: 0s - loss: 0.3371"
          ]
        },
        {
          "output_type": "stream",
          "name": "stderr",
          "text": [
            "\u001b[34m\u001b[1mwandb\u001b[0m: Adding directory to artifact (./models)... Done. 1.4s\n"
          ]
        },
        {
          "output_type": "stream",
          "name": "stdout",
          "text": [
            "\b\b\b\b\b\b\b\b\b\b\b\b\b\b\b\b\b\b\b\b\b\b\b\b\b\b\b\b\b\b\b\b\b\b\b\b\b\b\b\b\b\b\b\b\b\b\b\b\b\b\b\b\b\b\b\b\b\b\b\b\b\b\b\b\b\r168/168 [==============================] - 153s 908ms/step - loss: 0.3371 - val_loss: 0.2628\n"
          ]
        },
        {
          "output_type": "execute_result",
          "data": {
            "text/plain": [
              "<keras.src.callbacks.History at 0x7ef6295d33a0>"
            ]
          },
          "metadata": {},
          "execution_count": 38
        }
      ],
      "source": [
        "# Train the model\n",
        "siamese_model.fit(\n",
        "    train_generator,\n",
        "    validation_data=val_generator,\n",
        "    epochs=15,\n",
        "    callbacks=[WandbMetricsLogger(log_freq=5), WandbModelCheckpoint(\"models\")]\n",
        ")"
      ]
    },
    {
      "cell_type": "markdown",
      "metadata": {
        "id": "_qpbQCUEMNXY"
      },
      "source": [
        "## Saving the model"
      ]
    },
    {
      "cell_type": "code",
      "execution_count": 39,
      "metadata": {
        "colab": {
          "base_uri": "https://localhost:8080/"
        },
        "id": "VRWOuzCmMNXY",
        "outputId": "685a78fc-3490-4eb2-975b-93ccbf540f0b"
      },
      "outputs": [
        {
          "output_type": "stream",
          "name": "stderr",
          "text": [
            "/usr/local/lib/python3.10/dist-packages/keras/src/engine/training.py:3103: UserWarning: You are saving your model as an HDF5 file via `model.save()`. This file format is considered legacy. We recommend using instead the native Keras format, e.g. `model.save('my_model.keras')`.\n",
            "  saving_api.save_model(\n",
            "WARNING:tensorflow:Compiled the loaded model, but the compiled metrics have yet to be built. `model.compile_metrics` will be empty until you train or evaluate the model.\n"
          ]
        }
      ],
      "source": [
        "embedding_model.save(\"embedding_trial3.h5\")"
      ]
    },
    {
      "cell_type": "code",
      "source": [
        "!huggingface-cli login"
      ],
      "metadata": {
        "colab": {
          "base_uri": "https://localhost:8080/"
        },
        "id": "9jrq26SMaGNg",
        "outputId": "aa137f09-ba36-491f-8e83-a0af166fb2d2"
      },
      "execution_count": 29,
      "outputs": [
        {
          "output_type": "stream",
          "name": "stdout",
          "text": [
            "\n",
            "    _|    _|  _|    _|    _|_|_|    _|_|_|  _|_|_|  _|      _|    _|_|_|      _|_|_|_|    _|_|      _|_|_|  _|_|_|_|\n",
            "    _|    _|  _|    _|  _|        _|          _|    _|_|    _|  _|            _|        _|    _|  _|        _|\n",
            "    _|_|_|_|  _|    _|  _|  _|_|  _|  _|_|    _|    _|  _|  _|  _|  _|_|      _|_|_|    _|_|_|_|  _|        _|_|_|\n",
            "    _|    _|  _|    _|  _|    _|  _|    _|    _|    _|    _|_|  _|    _|      _|        _|    _|  _|        _|\n",
            "    _|    _|    _|_|      _|_|_|    _|_|_|  _|_|_|  _|      _|    _|_|_|      _|        _|    _|    _|_|_|  _|_|_|_|\n",
            "\n",
            "    To login, `huggingface_hub` requires a token generated from https://huggingface.co/settings/tokens .\n",
            "Enter your token (input will not be visible): \n",
            "Add token as git credential? (Y/n) n\n",
            "Token is valid (permission: write).\n",
            "Your token has been saved to /root/.cache/huggingface/token\n",
            "Login successful\n"
          ]
        }
      ]
    },
    {
      "cell_type": "code",
      "source": [
        "from huggingface_hub import HfApi\n",
        "api = HfApi()\n",
        "api.upload_file(\n",
        "    path_or_fileobj=\"/content/embedding_trial3.h5\",\n",
        "    path_in_repo=\"embedding_trial3.h5\",\n",
        "    repo_id=\"DnD11/FaceNet_Finetuned\",\n",
        "    repo_type=\"model\",\n",
        ")"
      ],
      "metadata": {
        "colab": {
          "base_uri": "https://localhost:8080/",
          "height": 121,
          "referenced_widgets": [
            "30099eb53f1b46ed9491631578c19e56",
            "9763de9ade684d5a9de34b40c2fb1d6e",
            "de8dfa4d0d894029befe909ef0ade77e",
            "2f792f6f7ff24a8b8fcf86525d4145fd",
            "0e9d7ef4ec6f4ea9821ebbfd90b56e2d",
            "cd6f59cddea243d8bc6d43b55f3ccc08",
            "e3137123e2da4f02b0e77eb553b410d5",
            "2fbf60558094462f891b58476380f288",
            "155dbd242abe4bcb852f216907e78291",
            "ce525a8474654b3ba1178badcbe96ba1",
            "31308aae88a2403eb39d0b254eb43701"
          ]
        },
        "id": "0fHNbC3lZpug",
        "outputId": "43b0e311-9f35-4b37-ef20-21728562c351"
      },
      "execution_count": 41,
      "outputs": [
        {
          "output_type": "display_data",
          "data": {
            "text/plain": [
              "embedding_trial3.h5:   0%|          | 0.00/94.7M [00:00<?, ?B/s]"
            ],
            "application/vnd.jupyter.widget-view+json": {
              "version_major": 2,
              "version_minor": 0,
              "model_id": "30099eb53f1b46ed9491631578c19e56"
            }
          },
          "metadata": {}
        },
        {
          "output_type": "execute_result",
          "data": {
            "text/plain": [
              "CommitInfo(commit_url='https://huggingface.co/DnD11/FaceNet_Finetuned/commit/93074cb19f105958bb79f786a640e14cf42d2b69', commit_message='Upload embedding_trial3.h5 with huggingface_hub', commit_description='', oid='93074cb19f105958bb79f786a640e14cf42d2b69', pr_url=None, pr_revision=None, pr_num=None)"
            ],
            "application/vnd.google.colaboratory.intrinsic+json": {
              "type": "string"
            }
          },
          "metadata": {},
          "execution_count": 41
        }
      ]
    },
    {
      "cell_type": "code",
      "execution_count": null,
      "metadata": {
        "id": "c8veuJ9UD2oa"
      },
      "outputs": [],
      "source": []
    }
  ],
  "metadata": {
    "accelerator": "GPU",
    "colab": {
      "gpuType": "T4",
      "provenance": []
    },
    "kernelspec": {
      "display_name": "Python 3",
      "name": "python3"
    },
    "language_info": {
      "name": "python"
    },
    "widgets": {
      "application/vnd.jupyter.widget-state+json": {
        "494d02f6a4fe4deab0b71bfaad57ff09": {
          "model_module": "@jupyter-widgets/controls",
          "model_name": "VBoxModel",
          "model_module_version": "1.5.0",
          "state": {
            "_dom_classes": [],
            "_model_module": "@jupyter-widgets/controls",
            "_model_module_version": "1.5.0",
            "_model_name": "VBoxModel",
            "_view_count": null,
            "_view_module": "@jupyter-widgets/controls",
            "_view_module_version": "1.5.0",
            "_view_name": "VBoxView",
            "box_style": "",
            "children": [
              "IPY_MODEL_d10892ddb3964dce869bcf84c01443e2",
              "IPY_MODEL_5ee398bf25074544a8784d341f1eed93"
            ],
            "layout": "IPY_MODEL_1e76705b5cbb4f56b95f57ba8b7b6ef1"
          }
        },
        "d10892ddb3964dce869bcf84c01443e2": {
          "model_module": "@jupyter-widgets/controls",
          "model_name": "LabelModel",
          "model_module_version": "1.5.0",
          "state": {
            "_dom_classes": [],
            "_model_module": "@jupyter-widgets/controls",
            "_model_module_version": "1.5.0",
            "_model_name": "LabelModel",
            "_view_count": null,
            "_view_module": "@jupyter-widgets/controls",
            "_view_module_version": "1.5.0",
            "_view_name": "LabelView",
            "description": "",
            "description_tooltip": null,
            "layout": "IPY_MODEL_9d7ef4b8df364c86b0610a6ab5a6b7db",
            "placeholder": "​",
            "style": "IPY_MODEL_0cd922ce47ec41dfbc112f8a8af5987a",
            "value": "4331.838 MB of 4331.838 MB uploaded (33.680 MB deduped)\r"
          }
        },
        "5ee398bf25074544a8784d341f1eed93": {
          "model_module": "@jupyter-widgets/controls",
          "model_name": "FloatProgressModel",
          "model_module_version": "1.5.0",
          "state": {
            "_dom_classes": [],
            "_model_module": "@jupyter-widgets/controls",
            "_model_module_version": "1.5.0",
            "_model_name": "FloatProgressModel",
            "_view_count": null,
            "_view_module": "@jupyter-widgets/controls",
            "_view_module_version": "1.5.0",
            "_view_name": "ProgressView",
            "bar_style": "",
            "description": "",
            "description_tooltip": null,
            "layout": "IPY_MODEL_9971da2bdc4a4d98a5ae66bf9f56007e",
            "max": 1,
            "min": 0,
            "orientation": "horizontal",
            "style": "IPY_MODEL_73c030b2892a4186908f9ca71c369bda",
            "value": 1
          }
        },
        "1e76705b5cbb4f56b95f57ba8b7b6ef1": {
          "model_module": "@jupyter-widgets/base",
          "model_name": "LayoutModel",
          "model_module_version": "1.2.0",
          "state": {
            "_model_module": "@jupyter-widgets/base",
            "_model_module_version": "1.2.0",
            "_model_name": "LayoutModel",
            "_view_count": null,
            "_view_module": "@jupyter-widgets/base",
            "_view_module_version": "1.2.0",
            "_view_name": "LayoutView",
            "align_content": null,
            "align_items": null,
            "align_self": null,
            "border": null,
            "bottom": null,
            "display": null,
            "flex": null,
            "flex_flow": null,
            "grid_area": null,
            "grid_auto_columns": null,
            "grid_auto_flow": null,
            "grid_auto_rows": null,
            "grid_column": null,
            "grid_gap": null,
            "grid_row": null,
            "grid_template_areas": null,
            "grid_template_columns": null,
            "grid_template_rows": null,
            "height": null,
            "justify_content": null,
            "justify_items": null,
            "left": null,
            "margin": null,
            "max_height": null,
            "max_width": null,
            "min_height": null,
            "min_width": null,
            "object_fit": null,
            "object_position": null,
            "order": null,
            "overflow": null,
            "overflow_x": null,
            "overflow_y": null,
            "padding": null,
            "right": null,
            "top": null,
            "visibility": null,
            "width": null
          }
        },
        "9d7ef4b8df364c86b0610a6ab5a6b7db": {
          "model_module": "@jupyter-widgets/base",
          "model_name": "LayoutModel",
          "model_module_version": "1.2.0",
          "state": {
            "_model_module": "@jupyter-widgets/base",
            "_model_module_version": "1.2.0",
            "_model_name": "LayoutModel",
            "_view_count": null,
            "_view_module": "@jupyter-widgets/base",
            "_view_module_version": "1.2.0",
            "_view_name": "LayoutView",
            "align_content": null,
            "align_items": null,
            "align_self": null,
            "border": null,
            "bottom": null,
            "display": null,
            "flex": null,
            "flex_flow": null,
            "grid_area": null,
            "grid_auto_columns": null,
            "grid_auto_flow": null,
            "grid_auto_rows": null,
            "grid_column": null,
            "grid_gap": null,
            "grid_row": null,
            "grid_template_areas": null,
            "grid_template_columns": null,
            "grid_template_rows": null,
            "height": null,
            "justify_content": null,
            "justify_items": null,
            "left": null,
            "margin": null,
            "max_height": null,
            "max_width": null,
            "min_height": null,
            "min_width": null,
            "object_fit": null,
            "object_position": null,
            "order": null,
            "overflow": null,
            "overflow_x": null,
            "overflow_y": null,
            "padding": null,
            "right": null,
            "top": null,
            "visibility": null,
            "width": null
          }
        },
        "0cd922ce47ec41dfbc112f8a8af5987a": {
          "model_module": "@jupyter-widgets/controls",
          "model_name": "DescriptionStyleModel",
          "model_module_version": "1.5.0",
          "state": {
            "_model_module": "@jupyter-widgets/controls",
            "_model_module_version": "1.5.0",
            "_model_name": "DescriptionStyleModel",
            "_view_count": null,
            "_view_module": "@jupyter-widgets/base",
            "_view_module_version": "1.2.0",
            "_view_name": "StyleView",
            "description_width": ""
          }
        },
        "9971da2bdc4a4d98a5ae66bf9f56007e": {
          "model_module": "@jupyter-widgets/base",
          "model_name": "LayoutModel",
          "model_module_version": "1.2.0",
          "state": {
            "_model_module": "@jupyter-widgets/base",
            "_model_module_version": "1.2.0",
            "_model_name": "LayoutModel",
            "_view_count": null,
            "_view_module": "@jupyter-widgets/base",
            "_view_module_version": "1.2.0",
            "_view_name": "LayoutView",
            "align_content": null,
            "align_items": null,
            "align_self": null,
            "border": null,
            "bottom": null,
            "display": null,
            "flex": null,
            "flex_flow": null,
            "grid_area": null,
            "grid_auto_columns": null,
            "grid_auto_flow": null,
            "grid_auto_rows": null,
            "grid_column": null,
            "grid_gap": null,
            "grid_row": null,
            "grid_template_areas": null,
            "grid_template_columns": null,
            "grid_template_rows": null,
            "height": null,
            "justify_content": null,
            "justify_items": null,
            "left": null,
            "margin": null,
            "max_height": null,
            "max_width": null,
            "min_height": null,
            "min_width": null,
            "object_fit": null,
            "object_position": null,
            "order": null,
            "overflow": null,
            "overflow_x": null,
            "overflow_y": null,
            "padding": null,
            "right": null,
            "top": null,
            "visibility": null,
            "width": null
          }
        },
        "73c030b2892a4186908f9ca71c369bda": {
          "model_module": "@jupyter-widgets/controls",
          "model_name": "ProgressStyleModel",
          "model_module_version": "1.5.0",
          "state": {
            "_model_module": "@jupyter-widgets/controls",
            "_model_module_version": "1.5.0",
            "_model_name": "ProgressStyleModel",
            "_view_count": null,
            "_view_module": "@jupyter-widgets/base",
            "_view_module_version": "1.2.0",
            "_view_name": "StyleView",
            "bar_color": null,
            "description_width": ""
          }
        },
        "30099eb53f1b46ed9491631578c19e56": {
          "model_module": "@jupyter-widgets/controls",
          "model_name": "HBoxModel",
          "model_module_version": "1.5.0",
          "state": {
            "_dom_classes": [],
            "_model_module": "@jupyter-widgets/controls",
            "_model_module_version": "1.5.0",
            "_model_name": "HBoxModel",
            "_view_count": null,
            "_view_module": "@jupyter-widgets/controls",
            "_view_module_version": "1.5.0",
            "_view_name": "HBoxView",
            "box_style": "",
            "children": [
              "IPY_MODEL_9763de9ade684d5a9de34b40c2fb1d6e",
              "IPY_MODEL_de8dfa4d0d894029befe909ef0ade77e",
              "IPY_MODEL_2f792f6f7ff24a8b8fcf86525d4145fd"
            ],
            "layout": "IPY_MODEL_0e9d7ef4ec6f4ea9821ebbfd90b56e2d"
          }
        },
        "9763de9ade684d5a9de34b40c2fb1d6e": {
          "model_module": "@jupyter-widgets/controls",
          "model_name": "HTMLModel",
          "model_module_version": "1.5.0",
          "state": {
            "_dom_classes": [],
            "_model_module": "@jupyter-widgets/controls",
            "_model_module_version": "1.5.0",
            "_model_name": "HTMLModel",
            "_view_count": null,
            "_view_module": "@jupyter-widgets/controls",
            "_view_module_version": "1.5.0",
            "_view_name": "HTMLView",
            "description": "",
            "description_tooltip": null,
            "layout": "IPY_MODEL_cd6f59cddea243d8bc6d43b55f3ccc08",
            "placeholder": "​",
            "style": "IPY_MODEL_e3137123e2da4f02b0e77eb553b410d5",
            "value": "embedding_trial3.h5: 100%"
          }
        },
        "de8dfa4d0d894029befe909ef0ade77e": {
          "model_module": "@jupyter-widgets/controls",
          "model_name": "FloatProgressModel",
          "model_module_version": "1.5.0",
          "state": {
            "_dom_classes": [],
            "_model_module": "@jupyter-widgets/controls",
            "_model_module_version": "1.5.0",
            "_model_name": "FloatProgressModel",
            "_view_count": null,
            "_view_module": "@jupyter-widgets/controls",
            "_view_module_version": "1.5.0",
            "_view_name": "ProgressView",
            "bar_style": "success",
            "description": "",
            "description_tooltip": null,
            "layout": "IPY_MODEL_2fbf60558094462f891b58476380f288",
            "max": 94732576,
            "min": 0,
            "orientation": "horizontal",
            "style": "IPY_MODEL_155dbd242abe4bcb852f216907e78291",
            "value": 94732576
          }
        },
        "2f792f6f7ff24a8b8fcf86525d4145fd": {
          "model_module": "@jupyter-widgets/controls",
          "model_name": "HTMLModel",
          "model_module_version": "1.5.0",
          "state": {
            "_dom_classes": [],
            "_model_module": "@jupyter-widgets/controls",
            "_model_module_version": "1.5.0",
            "_model_name": "HTMLModel",
            "_view_count": null,
            "_view_module": "@jupyter-widgets/controls",
            "_view_module_version": "1.5.0",
            "_view_name": "HTMLView",
            "description": "",
            "description_tooltip": null,
            "layout": "IPY_MODEL_ce525a8474654b3ba1178badcbe96ba1",
            "placeholder": "​",
            "style": "IPY_MODEL_31308aae88a2403eb39d0b254eb43701",
            "value": " 94.7M/94.7M [00:11&lt;00:00, 8.71MB/s]"
          }
        },
        "0e9d7ef4ec6f4ea9821ebbfd90b56e2d": {
          "model_module": "@jupyter-widgets/base",
          "model_name": "LayoutModel",
          "model_module_version": "1.2.0",
          "state": {
            "_model_module": "@jupyter-widgets/base",
            "_model_module_version": "1.2.0",
            "_model_name": "LayoutModel",
            "_view_count": null,
            "_view_module": "@jupyter-widgets/base",
            "_view_module_version": "1.2.0",
            "_view_name": "LayoutView",
            "align_content": null,
            "align_items": null,
            "align_self": null,
            "border": null,
            "bottom": null,
            "display": null,
            "flex": null,
            "flex_flow": null,
            "grid_area": null,
            "grid_auto_columns": null,
            "grid_auto_flow": null,
            "grid_auto_rows": null,
            "grid_column": null,
            "grid_gap": null,
            "grid_row": null,
            "grid_template_areas": null,
            "grid_template_columns": null,
            "grid_template_rows": null,
            "height": null,
            "justify_content": null,
            "justify_items": null,
            "left": null,
            "margin": null,
            "max_height": null,
            "max_width": null,
            "min_height": null,
            "min_width": null,
            "object_fit": null,
            "object_position": null,
            "order": null,
            "overflow": null,
            "overflow_x": null,
            "overflow_y": null,
            "padding": null,
            "right": null,
            "top": null,
            "visibility": null,
            "width": null
          }
        },
        "cd6f59cddea243d8bc6d43b55f3ccc08": {
          "model_module": "@jupyter-widgets/base",
          "model_name": "LayoutModel",
          "model_module_version": "1.2.0",
          "state": {
            "_model_module": "@jupyter-widgets/base",
            "_model_module_version": "1.2.0",
            "_model_name": "LayoutModel",
            "_view_count": null,
            "_view_module": "@jupyter-widgets/base",
            "_view_module_version": "1.2.0",
            "_view_name": "LayoutView",
            "align_content": null,
            "align_items": null,
            "align_self": null,
            "border": null,
            "bottom": null,
            "display": null,
            "flex": null,
            "flex_flow": null,
            "grid_area": null,
            "grid_auto_columns": null,
            "grid_auto_flow": null,
            "grid_auto_rows": null,
            "grid_column": null,
            "grid_gap": null,
            "grid_row": null,
            "grid_template_areas": null,
            "grid_template_columns": null,
            "grid_template_rows": null,
            "height": null,
            "justify_content": null,
            "justify_items": null,
            "left": null,
            "margin": null,
            "max_height": null,
            "max_width": null,
            "min_height": null,
            "min_width": null,
            "object_fit": null,
            "object_position": null,
            "order": null,
            "overflow": null,
            "overflow_x": null,
            "overflow_y": null,
            "padding": null,
            "right": null,
            "top": null,
            "visibility": null,
            "width": null
          }
        },
        "e3137123e2da4f02b0e77eb553b410d5": {
          "model_module": "@jupyter-widgets/controls",
          "model_name": "DescriptionStyleModel",
          "model_module_version": "1.5.0",
          "state": {
            "_model_module": "@jupyter-widgets/controls",
            "_model_module_version": "1.5.0",
            "_model_name": "DescriptionStyleModel",
            "_view_count": null,
            "_view_module": "@jupyter-widgets/base",
            "_view_module_version": "1.2.0",
            "_view_name": "StyleView",
            "description_width": ""
          }
        },
        "2fbf60558094462f891b58476380f288": {
          "model_module": "@jupyter-widgets/base",
          "model_name": "LayoutModel",
          "model_module_version": "1.2.0",
          "state": {
            "_model_module": "@jupyter-widgets/base",
            "_model_module_version": "1.2.0",
            "_model_name": "LayoutModel",
            "_view_count": null,
            "_view_module": "@jupyter-widgets/base",
            "_view_module_version": "1.2.0",
            "_view_name": "LayoutView",
            "align_content": null,
            "align_items": null,
            "align_self": null,
            "border": null,
            "bottom": null,
            "display": null,
            "flex": null,
            "flex_flow": null,
            "grid_area": null,
            "grid_auto_columns": null,
            "grid_auto_flow": null,
            "grid_auto_rows": null,
            "grid_column": null,
            "grid_gap": null,
            "grid_row": null,
            "grid_template_areas": null,
            "grid_template_columns": null,
            "grid_template_rows": null,
            "height": null,
            "justify_content": null,
            "justify_items": null,
            "left": null,
            "margin": null,
            "max_height": null,
            "max_width": null,
            "min_height": null,
            "min_width": null,
            "object_fit": null,
            "object_position": null,
            "order": null,
            "overflow": null,
            "overflow_x": null,
            "overflow_y": null,
            "padding": null,
            "right": null,
            "top": null,
            "visibility": null,
            "width": null
          }
        },
        "155dbd242abe4bcb852f216907e78291": {
          "model_module": "@jupyter-widgets/controls",
          "model_name": "ProgressStyleModel",
          "model_module_version": "1.5.0",
          "state": {
            "_model_module": "@jupyter-widgets/controls",
            "_model_module_version": "1.5.0",
            "_model_name": "ProgressStyleModel",
            "_view_count": null,
            "_view_module": "@jupyter-widgets/base",
            "_view_module_version": "1.2.0",
            "_view_name": "StyleView",
            "bar_color": null,
            "description_width": ""
          }
        },
        "ce525a8474654b3ba1178badcbe96ba1": {
          "model_module": "@jupyter-widgets/base",
          "model_name": "LayoutModel",
          "model_module_version": "1.2.0",
          "state": {
            "_model_module": "@jupyter-widgets/base",
            "_model_module_version": "1.2.0",
            "_model_name": "LayoutModel",
            "_view_count": null,
            "_view_module": "@jupyter-widgets/base",
            "_view_module_version": "1.2.0",
            "_view_name": "LayoutView",
            "align_content": null,
            "align_items": null,
            "align_self": null,
            "border": null,
            "bottom": null,
            "display": null,
            "flex": null,
            "flex_flow": null,
            "grid_area": null,
            "grid_auto_columns": null,
            "grid_auto_flow": null,
            "grid_auto_rows": null,
            "grid_column": null,
            "grid_gap": null,
            "grid_row": null,
            "grid_template_areas": null,
            "grid_template_columns": null,
            "grid_template_rows": null,
            "height": null,
            "justify_content": null,
            "justify_items": null,
            "left": null,
            "margin": null,
            "max_height": null,
            "max_width": null,
            "min_height": null,
            "min_width": null,
            "object_fit": null,
            "object_position": null,
            "order": null,
            "overflow": null,
            "overflow_x": null,
            "overflow_y": null,
            "padding": null,
            "right": null,
            "top": null,
            "visibility": null,
            "width": null
          }
        },
        "31308aae88a2403eb39d0b254eb43701": {
          "model_module": "@jupyter-widgets/controls",
          "model_name": "DescriptionStyleModel",
          "model_module_version": "1.5.0",
          "state": {
            "_model_module": "@jupyter-widgets/controls",
            "_model_module_version": "1.5.0",
            "_model_name": "DescriptionStyleModel",
            "_view_count": null,
            "_view_module": "@jupyter-widgets/base",
            "_view_module_version": "1.2.0",
            "_view_name": "StyleView",
            "description_width": ""
          }
        }
      }
    }
  },
  "nbformat": 4,
  "nbformat_minor": 0
}